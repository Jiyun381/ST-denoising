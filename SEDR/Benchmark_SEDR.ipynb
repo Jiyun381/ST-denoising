{
 "cells": [
  {
   "cell_type": "code",
   "execution_count": 1,
   "metadata": {},
   "outputs": [
    {
     "data": {
      "text/plain": [
       "'\\n[주의] \\n!!!! 아직 dropout_data 만드는 중! 어디까지 만들었는지 확인하고 코드 돌리세요 존재 안하는 폴더 있을수도 !!!!\\n!!!!!dropout_data의 X는 sparse array, int32으로 통일했습니다.!!!!!!\\n!!!! adata 모두 normalize/log 했습니다. 전에 없던 오류가 생겼으면 얘가 원인일수도... !!!\\n봐서 알겠지만 원본/dropout 파일들의 이름이 같습니다. 코딩하기 편하려고 통일했으니\\n아무쪼록 헷갈리지 마시길...\\ndropout_data에 layers/dropped가 추가되어있습니다. X랑 같은 모양으로 boolean \\n형식이고, True인 데이터들이 drop 후 0으로 채운 위치입니다. 혹시 모델이 NaN을\\n더 잘 impute한다면 이거 이용해서 데이터 수정하시면 됩니다.\\n모델 별로 이 노트북을 새로 복제해서 만들어두면 나중에 배포용 코드 만들기 편하겠죠?\\n이미지 파일이 필요하시면 hest_data/wsis 에서 가져오셔야 합니다. SPROD에 제가 만들어둔 가져오는\\n코드가 있긴 하니 필요하시면 가져가시죠.\\n이왕이면 dropout_data 폴더는 수정하지 말아주세요 (output 저장 포함)\\n\\n결과는 bench_results에 저장됩니다. 혹시 잘못 돌려서 데이터 삭제해야하면 수동으로 들어가서 수정하시죠 ㅎ\\n\\n[수정] 이라고 코멘트 해 둔 부분 적절히 고치시면 됩니다.\\n'"
      ]
     },
     "execution_count": 1,
     "metadata": {},
     "output_type": "execute_result"
    }
   ],
   "source": [
    "'''\n",
    "[주의] \n",
    "!!!! 아직 dropout_data 만드는 중! 어디까지 만들었는지 확인하고 코드 돌리세요 존재 안하는 폴더 있을수도 !!!!\n",
    "!!!!!dropout_data의 X는 sparse array, int32으로 통일했습니다.!!!!!!\n",
    "!!!! adata 모두 normalize/log 했습니다. 전에 없던 오류가 생겼으면 얘가 원인일수도... !!!\n",
    "봐서 알겠지만 원본/dropout 파일들의 이름이 같습니다. 코딩하기 편하려고 통일했으니\n",
    "아무쪼록 헷갈리지 마시길...\n",
    "dropout_data에 layers/dropped가 추가되어있습니다. X랑 같은 모양으로 boolean \n",
    "형식이고, True인 데이터들이 drop 후 0으로 채운 위치입니다. 혹시 모델이 NaN을\n",
    "더 잘 impute한다면 이거 이용해서 데이터 수정하시면 됩니다.\n",
    "모델 별로 이 노트북을 새로 복제해서 만들어두면 나중에 배포용 코드 만들기 편하겠죠?\n",
    "이미지 파일이 필요하시면 hest_data/wsis 에서 가져오셔야 합니다. SPROD에 제가 만들어둔 가져오는\n",
    "코드가 있긴 하니 필요하시면 가져가시죠.\n",
    "이왕이면 dropout_data 폴더는 수정하지 말아주세요 (output 저장 포함)\n",
    "\n",
    "결과는 bench_results에 저장됩니다. 혹시 잘못 돌려서 데이터 삭제해야하면 수동으로 들어가서 수정하시죠 ㅎ\n",
    "\n",
    "[수정] 이라고 코멘트 해 둔 부분 적절히 고치시면 됩니다.\n",
    "'''"
   ]
  },
  {
   "cell_type": "code",
   "execution_count": 2,
   "metadata": {},
   "outputs": [
    {
     "name": "stderr",
     "output_type": "stream",
     "text": [
      "/home/s2022310812/.conda/envs/SEDR-GP/lib/python3.10/site-packages/anndata/utils.py:429: FutureWarning: Importing read_csv from `anndata` is deprecated. Import anndata.io.read_csv instead.\n",
      "  warnings.warn(msg, FutureWarning)\n",
      "/home/s2022310812/.conda/envs/SEDR-GP/lib/python3.10/site-packages/anndata/utils.py:429: FutureWarning: Importing read_excel from `anndata` is deprecated. Import anndata.io.read_excel instead.\n",
      "  warnings.warn(msg, FutureWarning)\n",
      "/home/s2022310812/.conda/envs/SEDR-GP/lib/python3.10/site-packages/anndata/utils.py:429: FutureWarning: Importing read_hdf from `anndata` is deprecated. Import anndata.io.read_hdf instead.\n",
      "  warnings.warn(msg, FutureWarning)\n",
      "/home/s2022310812/.conda/envs/SEDR-GP/lib/python3.10/site-packages/anndata/utils.py:429: FutureWarning: Importing read_loom from `anndata` is deprecated. Import anndata.io.read_loom instead.\n",
      "  warnings.warn(msg, FutureWarning)\n",
      "/home/s2022310812/.conda/envs/SEDR-GP/lib/python3.10/site-packages/anndata/utils.py:429: FutureWarning: Importing read_mtx from `anndata` is deprecated. Import anndata.io.read_mtx instead.\n",
      "  warnings.warn(msg, FutureWarning)\n",
      "/home/s2022310812/.conda/envs/SEDR-GP/lib/python3.10/site-packages/anndata/utils.py:429: FutureWarning: Importing read_text from `anndata` is deprecated. Import anndata.io.read_text instead.\n",
      "  warnings.warn(msg, FutureWarning)\n",
      "/home/s2022310812/.conda/envs/SEDR-GP/lib/python3.10/site-packages/anndata/utils.py:429: FutureWarning: Importing read_umi_tools from `anndata` is deprecated. Import anndata.io.read_umi_tools instead.\n",
      "  warnings.warn(msg, FutureWarning)\n"
     ]
    },
    {
     "data": {
      "text/plain": [
       "<module 'SEDR' from '/home/s2022310812/SEDR/SEDR/__init__.py'>"
      ]
     },
     "execution_count": 2,
     "metadata": {},
     "output_type": "execute_result"
    }
   ],
   "source": [
    "import anndata as ad\n",
    "import os\n",
    "import numpy as np\n",
    "from sklearn.metrics import adjusted_rand_score\n",
    "import torch\n",
    "from scipy.sparse import csr_matrix\n",
    "import scanpy as sc\n",
    "\n",
    "\n",
    "#[수정] 이 밑으로 [여기까지] 지우고 여러분 모델에 맞는 패키지 불러오시면 됩니다.\n",
    "import scanpy as sc\n",
    "import pandas as pd\n",
    "import numpy as np\n",
    "\n",
    "import torch\n",
    "import os\n",
    "from tqdm import tqdm\n",
    "\n",
    "import warnings\n",
    "warnings.filterwarnings('ignore')\n",
    "\n",
    "import sys\n",
    "import importlib\n",
    "\n",
    "sys.path.insert(0, '/home/s2022310812/SEDR')\n",
    "\n",
    "import SEDR \n",
    "importlib.reload(SEDR)\n",
    "#[여기까지]"
   ]
  },
  {
   "cell_type": "code",
   "execution_count": 3,
   "metadata": {},
   "outputs": [],
   "source": [
    "bench_data_dir = '/home/s2022310812/bench_data' # bench_data 경로 [수정]\n",
    "dropout_data_dir = '/home/s2022310812/dropout_data' #dropout_data 경로 [수정]\n",
    "datasets = [ #[수정]\n",
    "    \"IDC\",\n",
    "    # \"COAD\",\n",
    "    # \"READ\",\n",
    "    # \"LYMPH_IDC\",\n",
    "]\n",
    "model = \"SEDR\" #[수정] 모델명\n",
    "percents = [ #[수정] dropout percentage\n",
    "    '10%',\n",
    "    '20%',\n",
    "    '30%'\n",
    "] \n",
    "samples = [ #[수정] dropout percentage data version\n",
    "    '1',\n",
    "    '2',\n",
    "    '3',\n",
    "    '4',\n",
    "    '5'\n",
    "] \n",
    "\n",
    "trial = '5' #[수정] dropout percentage data version trial number (1-5)\n",
    "man_sc = {}\n",
    "device = torch.device('cuda:0' if torch.cuda.is_available() else 'cpu') #[수정] cuda:사용할 GPU"
   ]
  },
  {
   "cell_type": "code",
   "execution_count": 4,
   "metadata": {},
   "outputs": [
    {
     "name": "stderr",
     "output_type": "stream",
     "text": [
      "\n",
      "\n",
      "00%|████████████████████████| 200/200 [00:02<00:00, 91.33it/s]"
     ]
    },
    {
     "name": "stdout",
     "output_type": "stream",
     "text": [
      "{'IDC/NCBI785.h5ad': 1.014735895937391}\n"
     ]
    },
    {
     "name": "stderr",
     "output_type": "stream",
     "text": [
      "\n",
      "\n",
      "00%|████████████████████████| 200/200 [00:02<00:00, 92.70it/s]"
     ]
    },
    {
     "name": "stdout",
     "output_type": "stream",
     "text": [
      "{'IDC/NCBI785.h5ad': 1.014735895937391, 'IDC/NCBI783.h5ad': 1.0798689761829068}\n"
     ]
    },
    {
     "name": "stderr",
     "output_type": "stream",
     "text": [
      "\n",
      "\n",
      "00%|████████████████████████| 200/200 [00:02<00:00, 85.71it/s]"
     ]
    },
    {
     "name": "stdout",
     "output_type": "stream",
     "text": [
      "{'IDC/NCBI785.h5ad': 1.014735895937391, 'IDC/NCBI783.h5ad': 1.0798689761829068, 'IDC/TENX95.h5ad': 0.9217419571595642}\n"
     ]
    },
    {
     "name": "stderr",
     "output_type": "stream",
     "text": [
      "\n",
      "\n",
      "00%|████████████████████████| 200/200 [00:05<00:00, 37.78it/s]"
     ]
    },
    {
     "name": "stdout",
     "output_type": "stream",
     "text": [
      "{'IDC/NCBI785.h5ad': 1.014735895937391, 'IDC/NCBI783.h5ad': 1.0798689761829068, 'IDC/TENX95.h5ad': 0.9217419571595642, 'IDC/TENX99.h5ad': 1.055893400828819}\n"
     ]
    },
    {
     "name": "stderr",
     "output_type": "stream",
     "text": [
      "\n",
      "\n",
      "00%|████████████████████████| 200/200 [00:02<00:00, 92.50it/s]"
     ]
    },
    {
     "name": "stdout",
     "output_type": "stream",
     "text": [
      "{'IDC/NCBI785.h5ad': 1.0103647938463323, 'IDC/NCBI783.h5ad': 1.0798689761829068, 'IDC/TENX95.h5ad': 0.9217419571595642, 'IDC/TENX99.h5ad': 1.055893400828819}\n"
     ]
    },
    {
     "name": "stderr",
     "output_type": "stream",
     "text": [
      "\n",
      "\n",
      "00%|████████████████████████| 200/200 [00:02<00:00, 85.97it/s]"
     ]
    },
    {
     "name": "stdout",
     "output_type": "stream",
     "text": [
      "{'IDC/NCBI785.h5ad': 1.0103647938463323, 'IDC/NCBI783.h5ad': 1.084698520975914, 'IDC/TENX95.h5ad': 0.9217419571595642, 'IDC/TENX99.h5ad': 1.055893400828819}\n"
     ]
    },
    {
     "name": "stderr",
     "output_type": "stream",
     "text": [
      "\n",
      "\n",
      "00%|████████████████████████| 200/200 [00:06<00:00, 30.28it/s]"
     ]
    },
    {
     "name": "stdout",
     "output_type": "stream",
     "text": [
      "{'IDC/NCBI785.h5ad': 1.0103647938463323, 'IDC/NCBI783.h5ad': 1.084698520975914, 'IDC/TENX95.h5ad': 0.9188062446112947, 'IDC/TENX99.h5ad': 1.055893400828819}\n"
     ]
    },
    {
     "name": "stderr",
     "output_type": "stream",
     "text": [
      "\n",
      "\n",
      "00%|████████████████████████| 200/200 [00:04<00:00, 42.53it/s]"
     ]
    },
    {
     "name": "stdout",
     "output_type": "stream",
     "text": [
      "{'IDC/NCBI785.h5ad': 1.0103647938463323, 'IDC/NCBI783.h5ad': 1.084698520975914, 'IDC/TENX95.h5ad': 0.9188062446112947, 'IDC/TENX99.h5ad': 1.0521662986729994}\n"
     ]
    },
    {
     "name": "stderr",
     "output_type": "stream",
     "text": [
      "\n",
      "\n",
      "00%|████████████████████████| 200/200 [00:03<00:00, 63.09it/s]"
     ]
    },
    {
     "name": "stdout",
     "output_type": "stream",
     "text": [
      "{'IDC/NCBI785.h5ad': 1.026463276870288, 'IDC/NCBI783.h5ad': 1.084698520975914, 'IDC/TENX95.h5ad': 0.9188062446112947, 'IDC/TENX99.h5ad': 1.0521662986729994}\n"
     ]
    },
    {
     "name": "stderr",
     "output_type": "stream",
     "text": [
      "\n",
      "\n",
      "00%|████████████████████████| 200/200 [00:02<00:00, 88.74it/s]"
     ]
    },
    {
     "name": "stdout",
     "output_type": "stream",
     "text": [
      "{'IDC/NCBI785.h5ad': 1.026463276870288, 'IDC/NCBI783.h5ad': 1.0687330311861076, 'IDC/TENX95.h5ad': 0.9188062446112947, 'IDC/TENX99.h5ad': 1.0521662986729994}\n"
     ]
    },
    {
     "name": "stderr",
     "output_type": "stream",
     "text": [
      "\n",
      "\n",
      "00%|████████████████████████| 200/200 [00:02<00:00, 85.65it/s]"
     ]
    },
    {
     "name": "stdout",
     "output_type": "stream",
     "text": [
      "{'IDC/NCBI785.h5ad': 1.026463276870288, 'IDC/NCBI783.h5ad': 1.0687330311861076, 'IDC/TENX95.h5ad': 0.9222994633358662, 'IDC/TENX99.h5ad': 1.0521662986729994}\n"
     ]
    },
    {
     "name": "stderr",
     "output_type": "stream",
     "text": [
      "\n",
      "\n",
      "00%|████████████████████████| 200/200 [00:04<00:00, 40.49it/s]"
     ]
    },
    {
     "name": "stdout",
     "output_type": "stream",
     "text": [
      "{'IDC/NCBI785.h5ad': 1.026463276870288, 'IDC/NCBI783.h5ad': 1.0687330311861076, 'IDC/TENX95.h5ad': 0.9222994633358662, 'IDC/TENX99.h5ad': 1.0363630069491405}\n"
     ]
    },
    {
     "name": "stderr",
     "output_type": "stream",
     "text": [
      "\n",
      "\n",
      "00%|████████████████████████| 200/200 [00:02<00:00, 91.09it/s]"
     ]
    },
    {
     "name": "stdout",
     "output_type": "stream",
     "text": [
      "{'IDC/NCBI785.h5ad': 1.0205221501005861, 'IDC/NCBI783.h5ad': 1.0687330311861076, 'IDC/TENX95.h5ad': 0.9222994633358662, 'IDC/TENX99.h5ad': 1.0363630069491405}\n"
     ]
    },
    {
     "name": "stderr",
     "output_type": "stream",
     "text": [
      "\n",
      "\n",
      "00%|████████████████████████| 200/200 [00:02<00:00, 90.71it/s]"
     ]
    },
    {
     "name": "stdout",
     "output_type": "stream",
     "text": [
      "{'IDC/NCBI785.h5ad': 1.0205221501005861, 'IDC/NCBI783.h5ad': 1.0788031230944617, 'IDC/TENX95.h5ad': 0.9222994633358662, 'IDC/TENX99.h5ad': 1.0363630069491405}\n"
     ]
    },
    {
     "name": "stderr",
     "output_type": "stream",
     "text": [
      "\n",
      "\n",
      "00%|████████████████████████| 200/200 [00:03<00:00, 59.49it/s]"
     ]
    },
    {
     "name": "stdout",
     "output_type": "stream",
     "text": [
      "{'IDC/NCBI785.h5ad': 1.0205221501005861, 'IDC/NCBI783.h5ad': 1.0788031230944617, 'IDC/TENX95.h5ad': 0.9227816278950605, 'IDC/TENX99.h5ad': 1.0363630069491405}\n"
     ]
    },
    {
     "name": "stderr",
     "output_type": "stream",
     "text": [
      "\n",
      "\n",
      "00%|████████████████████████| 200/200 [00:04<00:00, 40.92it/s]"
     ]
    },
    {
     "name": "stdout",
     "output_type": "stream",
     "text": [
      "{'IDC/NCBI785.h5ad': 1.0205221501005861, 'IDC/NCBI783.h5ad': 1.0788031230944617, 'IDC/TENX95.h5ad': 0.9227816278950605, 'IDC/TENX99.h5ad': 1.0392984651317985}\n"
     ]
    },
    {
     "name": "stderr",
     "output_type": "stream",
     "text": [
      "\n",
      "\n",
      "00%|████████████████████████| 200/200 [00:02<00:00, 80.06it/s]"
     ]
    },
    {
     "name": "stdout",
     "output_type": "stream",
     "text": [
      "{'IDC/NCBI785.h5ad': 1.026701431181486, 'IDC/NCBI783.h5ad': 1.0788031230944617, 'IDC/TENX95.h5ad': 0.9227816278950605, 'IDC/TENX99.h5ad': 1.0392984651317985}\n"
     ]
    },
    {
     "name": "stderr",
     "output_type": "stream",
     "text": [
      "\n",
      "\n",
      "00%|████████████████████████| 200/200 [00:02<00:00, 85.03it/s]"
     ]
    },
    {
     "name": "stdout",
     "output_type": "stream",
     "text": [
      "{'IDC/NCBI785.h5ad': 1.026701431181486, 'IDC/NCBI783.h5ad': 1.0918732130774538, 'IDC/TENX95.h5ad': 0.9227816278950605, 'IDC/TENX99.h5ad': 1.0392984651317985}\n"
     ]
    },
    {
     "name": "stderr",
     "output_type": "stream",
     "text": [
      "\n",
      "\n",
      "00%|████████████████████████| 200/200 [00:09<00:00, 21.20it/s]"
     ]
    },
    {
     "name": "stdout",
     "output_type": "stream",
     "text": [
      "{'IDC/NCBI785.h5ad': 1.026701431181486, 'IDC/NCBI783.h5ad': 1.0918732130774538, 'IDC/TENX95.h5ad': 0.9406797824081193, 'IDC/TENX99.h5ad': 1.0392984651317985}\n"
     ]
    },
    {
     "name": "stderr",
     "output_type": "stream",
     "text": [
      "\n",
      "\n",
      "00%|████████████████████████| 200/200 [00:03<00:00, 61.73it/s]"
     ]
    },
    {
     "name": "stdout",
     "output_type": "stream",
     "text": [
      "{'IDC/NCBI785.h5ad': 1.026701431181486, 'IDC/NCBI783.h5ad': 1.0918732130774538, 'IDC/TENX95.h5ad': 0.9406797824081193, 'IDC/TENX99.h5ad': 1.0416512072011535}\n"
     ]
    },
    {
     "name": "stderr",
     "output_type": "stream",
     "text": [
      "\n",
      "\n",
      "00%|████████████████████████| 200/200 [00:02<00:00, 99.63it/s]"
     ]
    },
    {
     "name": "stdout",
     "output_type": "stream",
     "text": [
      "{'IDC/NCBI785.h5ad': 1.0049310163842038, 'IDC/NCBI783.h5ad': 1.0918732130774538, 'IDC/TENX95.h5ad': 0.9406797824081193, 'IDC/TENX99.h5ad': 1.0416512072011535}\n"
     ]
    },
    {
     "name": "stderr",
     "output_type": "stream",
     "text": [
      "\n",
      "\n",
      "00%|████████████████████████| 200/200 [00:03<00:00, 60.47it/s]"
     ]
    },
    {
     "name": "stdout",
     "output_type": "stream",
     "text": [
      "{'IDC/NCBI785.h5ad': 1.0049310163842038, 'IDC/NCBI783.h5ad': 1.094255749017887, 'IDC/TENX95.h5ad': 0.9406797824081193, 'IDC/TENX99.h5ad': 1.0416512072011535}\n"
     ]
    },
    {
     "name": "stderr",
     "output_type": "stream",
     "text": [
      "\n",
      "\n",
      "00%|████████████████████████| 200/200 [00:03<00:00, 57.45it/s]"
     ]
    },
    {
     "name": "stdout",
     "output_type": "stream",
     "text": [
      "{'IDC/NCBI785.h5ad': 1.0049310163842038, 'IDC/NCBI783.h5ad': 1.094255749017887, 'IDC/TENX95.h5ad': 0.9579470265472444, 'IDC/TENX99.h5ad': 1.0416512072011535}\n"
     ]
    },
    {
     "name": "stderr",
     "output_type": "stream",
     "text": [
      "\n",
      "\n",
      "00%|████████████████████████| 200/200 [00:03<00:00, 63.80it/s]"
     ]
    },
    {
     "name": "stdout",
     "output_type": "stream",
     "text": [
      "{'IDC/NCBI785.h5ad': 1.0049310163842038, 'IDC/NCBI783.h5ad': 1.094255749017887, 'IDC/TENX95.h5ad': 0.9579470265472444, 'IDC/TENX99.h5ad': 1.0659856930064808}\n"
     ]
    },
    {
     "name": "stderr",
     "output_type": "stream",
     "text": [
      "\n",
      "\n",
      "00%|████████████████████████| 200/200 [00:02<00:00, 91.52it/s]"
     ]
    },
    {
     "name": "stdout",
     "output_type": "stream",
     "text": [
      "{'IDC/NCBI785.h5ad': 1.018195082031766, 'IDC/NCBI783.h5ad': 1.094255749017887, 'IDC/TENX95.h5ad': 0.9579470265472444, 'IDC/TENX99.h5ad': 1.0659856930064808}\n"
     ]
    },
    {
     "name": "stderr",
     "output_type": "stream",
     "text": [
      "\n",
      "\n",
      "00%|████████████████████████| 200/200 [00:02<00:00, 90.10it/s]"
     ]
    },
    {
     "name": "stdout",
     "output_type": "stream",
     "text": [
      "{'IDC/NCBI785.h5ad': 1.018195082031766, 'IDC/NCBI783.h5ad': 1.0993920407864872, 'IDC/TENX95.h5ad': 0.9579470265472444, 'IDC/TENX99.h5ad': 1.0659856930064808}\n"
     ]
    },
    {
     "name": "stderr",
     "output_type": "stream",
     "text": [
      "\n",
      "\n",
      "00%|████████████████████████| 200/200 [00:03<00:00, 54.27it/s]"
     ]
    },
    {
     "name": "stdout",
     "output_type": "stream",
     "text": [
      "{'IDC/NCBI785.h5ad': 1.018195082031766, 'IDC/NCBI783.h5ad': 1.0993920407864872, 'IDC/TENX95.h5ad': 0.924989509586624, 'IDC/TENX99.h5ad': 1.0659856930064808}\n"
     ]
    },
    {
     "name": "stderr",
     "output_type": "stream",
     "text": [
      "\n",
      "\n",
      "00%|████████████████████████| 200/200 [00:03<00:00, 61.45it/s]"
     ]
    },
    {
     "name": "stdout",
     "output_type": "stream",
     "text": [
      "{'IDC/NCBI785.h5ad': 1.018195082031766, 'IDC/NCBI783.h5ad': 1.0993920407864872, 'IDC/TENX95.h5ad': 0.924989509586624, 'IDC/TENX99.h5ad': 1.0763656416737528}\n"
     ]
    },
    {
     "name": "stderr",
     "output_type": "stream",
     "text": [
      "\n",
      "\n",
      "00%|████████████████████████| 200/200 [00:02<00:00, 85.82it/s]"
     ]
    },
    {
     "name": "stdout",
     "output_type": "stream",
     "text": [
      "{'IDC/NCBI785.h5ad': 1.035937229998272, 'IDC/NCBI783.h5ad': 1.0993920407864872, 'IDC/TENX95.h5ad': 0.924989509586624, 'IDC/TENX99.h5ad': 1.0763656416737528}\n"
     ]
    },
    {
     "name": "stderr",
     "output_type": "stream",
     "text": [
      "\n",
      "\n",
      "00%|████████████████████████| 200/200 [00:02<00:00, 81.86it/s]"
     ]
    },
    {
     "name": "stdout",
     "output_type": "stream",
     "text": [
      "{'IDC/NCBI785.h5ad': 1.035937229998272, 'IDC/NCBI783.h5ad': 1.1022785561768838, 'IDC/TENX95.h5ad': 0.924989509586624, 'IDC/TENX99.h5ad': 1.0763656416737528}\n"
     ]
    },
    {
     "name": "stderr",
     "output_type": "stream",
     "text": [
      "\n",
      "\n",
      "00%|████████████████████████| 200/200 [00:02<00:00, 78.20it/s]"
     ]
    },
    {
     "name": "stdout",
     "output_type": "stream",
     "text": [
      "{'IDC/NCBI785.h5ad': 1.035937229998272, 'IDC/NCBI783.h5ad': 1.1022785561768838, 'IDC/TENX95.h5ad': 0.9216336122179742, 'IDC/TENX99.h5ad': 1.0763656416737528}\n"
     ]
    },
    {
     "name": "stderr",
     "output_type": "stream",
     "text": [
      "\n",
      "\n",
      "00%|████████████████████████| 200/200 [00:03<00:00, 63.43it/s]"
     ]
    },
    {
     "name": "stdout",
     "output_type": "stream",
     "text": [
      "{'IDC/NCBI785.h5ad': 1.035937229998272, 'IDC/NCBI783.h5ad': 1.1022785561768838, 'IDC/TENX95.h5ad': 0.9216336122179742, 'IDC/TENX99.h5ad': 1.10439461590043}\n"
     ]
    },
    {
     "name": "stderr",
     "output_type": "stream",
     "text": [
      "\n",
      "\n",
      "00%|████████████████████████| 200/200 [00:02<00:00, 78.73it/s]"
     ]
    },
    {
     "name": "stdout",
     "output_type": "stream",
     "text": [
      "{'IDC/NCBI785.h5ad': 1.0410375157645289, 'IDC/NCBI783.h5ad': 1.1022785561768838, 'IDC/TENX95.h5ad': 0.9216336122179742, 'IDC/TENX99.h5ad': 1.10439461590043}\n"
     ]
    },
    {
     "name": "stderr",
     "output_type": "stream",
     "text": [
      "\n",
      "\n",
      "00%|████████████████████████| 200/200 [00:02<00:00, 91.54it/s]"
     ]
    },
    {
     "name": "stdout",
     "output_type": "stream",
     "text": [
      "{'IDC/NCBI785.h5ad': 1.0410375157645289, 'IDC/NCBI783.h5ad': 1.0999585646408994, 'IDC/TENX95.h5ad': 0.9216336122179742, 'IDC/TENX99.h5ad': 1.10439461590043}\n"
     ]
    },
    {
     "name": "stderr",
     "output_type": "stream",
     "text": [
      "\n",
      "\n",
      "00%|████████████████████████| 200/200 [00:02<00:00, 84.38it/s]"
     ]
    },
    {
     "name": "stdout",
     "output_type": "stream",
     "text": [
      "{'IDC/NCBI785.h5ad': 1.0410375157645289, 'IDC/NCBI783.h5ad': 1.0999585646408994, 'IDC/TENX95.h5ad': 0.9471179354793532, 'IDC/TENX99.h5ad': 1.10439461590043}\n"
     ]
    },
    {
     "name": "stderr",
     "output_type": "stream",
     "text": [
      "\n",
      "\n",
      "00%|████████████████████████| 200/200 [00:03<00:00, 61.81it/s]"
     ]
    },
    {
     "name": "stdout",
     "output_type": "stream",
     "text": [
      "{'IDC/NCBI785.h5ad': 1.0410375157645289, 'IDC/NCBI783.h5ad': 1.0999585646408994, 'IDC/TENX95.h5ad': 0.9471179354793532, 'IDC/TENX99.h5ad': 1.0876702098826871}\n"
     ]
    },
    {
     "name": "stderr",
     "output_type": "stream",
     "text": [
      "\n",
      "\n",
      "00%|████████████████████████| 200/200 [00:02<00:00, 90.06it/s]"
     ]
    },
    {
     "name": "stdout",
     "output_type": "stream",
     "text": [
      "{'IDC/NCBI785.h5ad': 1.0264861391282698, 'IDC/NCBI783.h5ad': 1.0999585646408994, 'IDC/TENX95.h5ad': 0.9471179354793532, 'IDC/TENX99.h5ad': 1.0876702098826871}\n"
     ]
    },
    {
     "name": "stderr",
     "output_type": "stream",
     "text": [
      "\n",
      "\n",
      "00%|████████████████████████| 200/200 [00:02<00:00, 85.34it/s]"
     ]
    },
    {
     "name": "stdout",
     "output_type": "stream",
     "text": [
      "{'IDC/NCBI785.h5ad': 1.0264861391282698, 'IDC/NCBI783.h5ad': 1.0958501285628792, 'IDC/TENX95.h5ad': 0.9471179354793532, 'IDC/TENX99.h5ad': 1.0876702098826871}\n"
     ]
    },
    {
     "name": "stderr",
     "output_type": "stream",
     "text": [
      "\n",
      "\n",
      "00%|████████████████████████| 200/200 [00:02<00:00, 74.38it/s]"
     ]
    },
    {
     "name": "stdout",
     "output_type": "stream",
     "text": [
      "{'IDC/NCBI785.h5ad': 1.0264861391282698, 'IDC/NCBI783.h5ad': 1.0958501285628792, 'IDC/TENX95.h5ad': 0.9193590159826702, 'IDC/TENX99.h5ad': 1.0876702098826871}\n"
     ]
    },
    {
     "name": "stderr",
     "output_type": "stream",
     "text": [
      "\n",
      "\n",
      "00%|████████████████████████| 200/200 [00:03<00:00, 62.62it/s]"
     ]
    },
    {
     "name": "stdout",
     "output_type": "stream",
     "text": [
      "{'IDC/NCBI785.h5ad': 1.0264861391282698, 'IDC/NCBI783.h5ad': 1.0958501285628792, 'IDC/TENX95.h5ad': 0.9193590159826702, 'IDC/TENX99.h5ad': 1.0839422088841142}\n"
     ]
    },
    {
     "name": "stderr",
     "output_type": "stream",
     "text": [
      "\n",
      "\n",
      "00%|████████████████████████| 200/200 [00:03<00:00, 66.49it/s]"
     ]
    },
    {
     "name": "stdout",
     "output_type": "stream",
     "text": [
      "{'IDC/NCBI785.h5ad': 1.0349986341996409, 'IDC/NCBI783.h5ad': 1.0958501285628792, 'IDC/TENX95.h5ad': 0.9193590159826702, 'IDC/TENX99.h5ad': 1.0839422088841142}\n"
     ]
    },
    {
     "name": "stderr",
     "output_type": "stream",
     "text": [
      "\n",
      "\n",
      "00%|████████████████████████| 200/200 [00:02<00:00, 82.45it/s]"
     ]
    },
    {
     "name": "stdout",
     "output_type": "stream",
     "text": [
      "{'IDC/NCBI785.h5ad': 1.0349986341996409, 'IDC/NCBI783.h5ad': 1.1241315140245978, 'IDC/TENX95.h5ad': 0.9193590159826702, 'IDC/TENX99.h5ad': 1.0839422088841142}\n"
     ]
    },
    {
     "name": "stderr",
     "output_type": "stream",
     "text": [
      "\n",
      "\n",
      "00%|████████████████████████| 200/200 [00:03<00:00, 62.35it/s]"
     ]
    },
    {
     "name": "stdout",
     "output_type": "stream",
     "text": [
      "{'IDC/NCBI785.h5ad': 1.0349986341996409, 'IDC/NCBI783.h5ad': 1.1241315140245978, 'IDC/TENX95.h5ad': 0.9468674443736161, 'IDC/TENX99.h5ad': 1.0839422088841142}\n"
     ]
    },
    {
     "name": "stderr",
     "output_type": "stream",
     "text": [
      "\n",
      "\n",
      "00%|████████████████████████| 200/200 [00:03<00:00, 63.43it/s]"
     ]
    },
    {
     "name": "stdout",
     "output_type": "stream",
     "text": [
      "{'IDC/NCBI785.h5ad': 1.0349986341996409, 'IDC/NCBI783.h5ad': 1.1241315140245978, 'IDC/TENX95.h5ad': 0.9468674443736161, 'IDC/TENX99.h5ad': 1.0932863471195853}\n"
     ]
    },
    {
     "name": "stderr",
     "output_type": "stream",
     "text": [
      "\n",
      "\n",
      "00%|████████████████████████| 200/200 [00:02<00:00, 89.41it/s]"
     ]
    },
    {
     "name": "stdout",
     "output_type": "stream",
     "text": [
      "{'IDC/NCBI785.h5ad': 1.0214889073200155, 'IDC/NCBI783.h5ad': 1.1241315140245978, 'IDC/TENX95.h5ad': 0.9468674443736161, 'IDC/TENX99.h5ad': 1.0932863471195853}\n"
     ]
    },
    {
     "name": "stderr",
     "output_type": "stream",
     "text": [
      "\n",
      "\n",
      "00%|████████████████████████| 200/200 [00:02<00:00, 88.43it/s]"
     ]
    },
    {
     "name": "stdout",
     "output_type": "stream",
     "text": [
      "{'IDC/NCBI785.h5ad': 1.0214889073200155, 'IDC/NCBI783.h5ad': 1.1267544844003932, 'IDC/TENX95.h5ad': 0.9468674443736161, 'IDC/TENX99.h5ad': 1.0932863471195853}\n"
     ]
    },
    {
     "name": "stderr",
     "output_type": "stream",
     "text": [
      "\n",
      "\n",
      "00%|████████████████████████| 200/200 [00:02<00:00, 85.82it/s]"
     ]
    },
    {
     "name": "stdout",
     "output_type": "stream",
     "text": [
      "{'IDC/NCBI785.h5ad': 1.0214889073200155, 'IDC/NCBI783.h5ad': 1.1267544844003932, 'IDC/TENX95.h5ad': 0.9615160565407234, 'IDC/TENX99.h5ad': 1.0932863471195853}\n"
     ]
    },
    {
     "name": "stderr",
     "output_type": "stream",
     "text": [
      "\n",
      "\n",
      "00%|████████████████████████| 200/200 [00:03<00:00, 62.11it/s]"
     ]
    },
    {
     "name": "stdout",
     "output_type": "stream",
     "text": [
      "{'IDC/NCBI785.h5ad': 1.0214889073200155, 'IDC/NCBI783.h5ad': 1.1267544844003932, 'IDC/TENX95.h5ad': 0.9615160565407234, 'IDC/TENX99.h5ad': 1.0876872695881703}\n"
     ]
    },
    {
     "name": "stderr",
     "output_type": "stream",
     "text": [
      "\n",
      "\n",
      "00%|████████████████████████| 200/200 [00:02<00:00, 87.05it/s]"
     ]
    },
    {
     "name": "stdout",
     "output_type": "stream",
     "text": [
      "{'IDC/NCBI785.h5ad': 1.0323503364663391, 'IDC/NCBI783.h5ad': 1.1267544844003932, 'IDC/TENX95.h5ad': 0.9615160565407234, 'IDC/TENX99.h5ad': 1.0876872695881703}\n"
     ]
    },
    {
     "name": "stderr",
     "output_type": "stream",
     "text": [
      "\n",
      "\n",
      "00%|████████████████████████| 200/200 [00:02<00:00, 88.26it/s]"
     ]
    },
    {
     "name": "stdout",
     "output_type": "stream",
     "text": [
      "{'IDC/NCBI785.h5ad': 1.0323503364663391, 'IDC/NCBI783.h5ad': 1.1297280583553861, 'IDC/TENX95.h5ad': 0.9615160565407234, 'IDC/TENX99.h5ad': 1.0876872695881703}\n"
     ]
    },
    {
     "name": "stderr",
     "output_type": "stream",
     "text": [
      "\n",
      "\n",
      "00%|████████████████████████| 200/200 [00:03<00:00, 63.46it/s]"
     ]
    },
    {
     "name": "stdout",
     "output_type": "stream",
     "text": [
      "{'IDC/NCBI785.h5ad': 1.0323503364663391, 'IDC/NCBI783.h5ad': 1.1297280583553861, 'IDC/TENX95.h5ad': 0.9407518910078974, 'IDC/TENX99.h5ad': 1.0876872695881703}\n"
     ]
    },
    {
     "name": "stderr",
     "output_type": "stream",
     "text": [
      "\n",
      "\n",
      "00%|████████████████████████| 200/200 [00:09<00:00, 21.10it/s]"
     ]
    },
    {
     "name": "stdout",
     "output_type": "stream",
     "text": [
      "{'IDC/NCBI785.h5ad': 1.0323503364663391, 'IDC/NCBI783.h5ad': 1.1297280583553861, 'IDC/TENX95.h5ad': 0.9407518910078974, 'IDC/TENX99.h5ad': 1.0996429836937176}\n"
     ]
    },
    {
     "name": "stderr",
     "output_type": "stream",
     "text": [
      "\n",
      "\n",
      "00%|████████████████████████| 200/200 [00:02<00:00, 89.32it/s]"
     ]
    },
    {
     "name": "stdout",
     "output_type": "stream",
     "text": [
      "{'IDC/NCBI785.h5ad': 1.0487560429587321, 'IDC/NCBI783.h5ad': 1.1297280583553861, 'IDC/TENX95.h5ad': 0.9407518910078974, 'IDC/TENX99.h5ad': 1.0996429836937176}\n"
     ]
    },
    {
     "name": "stderr",
     "output_type": "stream",
     "text": [
      "\n",
      "\n",
      "00%|████████████████████████| 200/200 [00:02<00:00, 88.45it/s]"
     ]
    },
    {
     "name": "stdout",
     "output_type": "stream",
     "text": [
      "{'IDC/NCBI785.h5ad': 1.0487560429587321, 'IDC/NCBI783.h5ad': 1.1299440911080845, 'IDC/TENX95.h5ad': 0.9407518910078974, 'IDC/TENX99.h5ad': 1.0996429836937176}\n"
     ]
    },
    {
     "name": "stderr",
     "output_type": "stream",
     "text": [
      "\n",
      "\n",
      "00%|████████████████████████| 200/200 [00:02<00:00, 80.66it/s]"
     ]
    },
    {
     "name": "stdout",
     "output_type": "stream",
     "text": [
      "{'IDC/NCBI785.h5ad': 1.0487560429587321, 'IDC/NCBI783.h5ad': 1.1299440911080845, 'IDC/TENX95.h5ad': 0.9378825923256155, 'IDC/TENX99.h5ad': 1.0996429836937176}\n"
     ]
    },
    {
     "name": "stderr",
     "output_type": "stream",
     "text": [
      "\n",
      "\n",
      "00%|████████████████████████| 200/200 [00:03<00:00, 58.76it/s]"
     ]
    },
    {
     "name": "stdout",
     "output_type": "stream",
     "text": [
      "{'IDC/NCBI785.h5ad': 1.0487560429587321, 'IDC/NCBI783.h5ad': 1.1299440911080845, 'IDC/TENX95.h5ad': 0.9378825923256155, 'IDC/TENX99.h5ad': 1.0923229018329565}\n"
     ]
    },
    {
     "name": "stderr",
     "output_type": "stream",
     "text": [
      "\n",
      "\n",
      "00%|████████████████████████| 200/200 [00:02<00:00, 90.30it/s]"
     ]
    },
    {
     "name": "stdout",
     "output_type": "stream",
     "text": [
      "{'IDC/NCBI785.h5ad': 1.0282111735226636, 'IDC/NCBI783.h5ad': 1.1299440911080845, 'IDC/TENX95.h5ad': 0.9378825923256155, 'IDC/TENX99.h5ad': 1.0923229018329565}\n"
     ]
    },
    {
     "name": "stderr",
     "output_type": "stream",
     "text": [
      "\n",
      "\n",
      "00%|████████████████████████| 200/200 [00:02<00:00, 74.80it/s]"
     ]
    },
    {
     "name": "stdout",
     "output_type": "stream",
     "text": [
      "{'IDC/NCBI785.h5ad': 1.0282111735226636, 'IDC/NCBI783.h5ad': 1.1239257441765387, 'IDC/TENX95.h5ad': 0.9378825923256155, 'IDC/TENX99.h5ad': 1.0923229018329565}\n"
     ]
    },
    {
     "name": "stderr",
     "output_type": "stream",
     "text": [
      "\n",
      "\n",
      "00%|████████████████████████| 200/200 [00:02<00:00, 83.80it/s]"
     ]
    },
    {
     "name": "stdout",
     "output_type": "stream",
     "text": [
      "{'IDC/NCBI785.h5ad': 1.0282111735226636, 'IDC/NCBI783.h5ad': 1.1239257441765387, 'IDC/TENX95.h5ad': 0.9734631724643306, 'IDC/TENX99.h5ad': 1.0923229018329565}\n"
     ]
    },
    {
     "name": "stderr",
     "output_type": "stream",
     "text": [
      "\n",
      "\n",
      "00%|████████████████████████| 200/200 [00:03<00:00, 63.20it/s]"
     ]
    },
    {
     "name": "stdout",
     "output_type": "stream",
     "text": [
      "{'IDC/NCBI785.h5ad': 1.0282111735226636, 'IDC/NCBI783.h5ad': 1.1239257441765387, 'IDC/TENX95.h5ad': 0.9734631724643306, 'IDC/TENX99.h5ad': 1.0962399601671673}\n"
     ]
    }
   ],
   "source": [
    "for dataset in datasets:\n",
    "    for percent in percents:\n",
    "        for sample in samples:\n",
    "            bench_path = os.path.join(bench_data_dir,dataset,'adata')\n",
    "            dropout_path = os.path.join(dropout_data_dir,dataset,percent+\"-\"+sample)\n",
    "            \n",
    "            adata_names = [f for f in os.listdir(bench_path) if os.path.isfile(os.path.join(bench_path, f))]\n",
    "        \n",
    "            for adata_name in adata_names:\n",
    "\n",
    "                adata = ad.read_h5ad(os.path.join(bench_path,adata_name))\n",
    "                sc.pp.normalize_total(adata, target_sum=1e6, exclude_highly_expressed= False) \n",
    "                sc.pp.log1p(adata)\n",
    "                sc.pp.scale(adata)\n",
    "                \n",
    "                adata_drop = ad.read_h5ad(os.path.join(dropout_path,adata_name))\n",
    "                sc.pp.normalize_total(adata_drop, target_sum=1e6, exclude_highly_expressed= False)\n",
    "                sc.pp.log1p(adata_drop)\n",
    "                sc.pp.scale(adata_drop)\n",
    "                    \n",
    "                dropped_mask = torch.tensor(adata_drop.layers['dropped'], dtype=torch.bool, device=device)\n",
    "                \n",
    "                \"\"\"\n",
    "                [수정]\n",
    "                여기서부터 [여기까지] adata_drop.X에 본인 모델 적용시켜서 adata2에 저장해주시면 됩니다.\n",
    "                [주의] adata2에 \"\"adata.X 에 해당하는 파일\"\" 저장해주세요... 그냥 그렇게 만들었어요.\n",
    "                \"\"\"\n",
    "                if hasattr(adata_drop.X, \"toarray\"):  # Check if it's a sparse matrix\n",
    "                    adata_drop.X = adata_drop.X.toarray()  # Convert sparse to dense matrix\n",
    "                    # print(\"adata_drop.X를 dense matrix로 변환했습니다.\")\n",
    "        \n",
    "                adata_drop.X = np.array(adata_drop.X, dtype=np.float32)\n",
    "        \n",
    "                # Constructing neighborhood graph\n",
    "                graph_dict = SEDR.graph_construction(adata_drop, 12)\n",
    "                \n",
    "                # Running SEDR\n",
    "                random_seed = 2024\n",
    "                SEDR.fix_seed(random_seed)\n",
    "                \n",
    "                sedr_net = SEDR.Sedr(adata_drop.X, graph_dict, mode='imputation', device=device)\n",
    "\n",
    "                using_dec = True\n",
    "                if using_dec:\n",
    "                    sedr_net.train_with_dec()\n",
    "                else:\n",
    "                    sedr_net.train_without_dec()\n",
    "                    \n",
    "                sedr_feat, _, _, _ = sedr_net.process()\n",
    "                adata.obsm['sedr'] = sedr_feat\n",
    "\n",
    "                # reconstruction\n",
    "                de_feat = sedr_net.recon()\n",
    "                adata2 = de_feat\n",
    "                \"\"\"\n",
    "                [여기까지]\n",
    "                \"\"\"\n",
    "                \n",
    "                # Step 1: Convert adata.X to float32 or int32 before creating the PyTorch tensor\n",
    "                if isinstance(adata.X, np.ndarray):\n",
    "                    # Convert to float32 if data is uint16 or other unsupported types\n",
    "                    adata_X = adata.X.astype(np.float32) if adata.X.dtype == np.uint16 else adata.X.astype(np.float32)\n",
    "                    adata_tensor = torch.tensor(adata_X, dtype=torch.float32, device=device)\n",
    "                elif isinstance(adata.X, csr_matrix):\n",
    "                    adata_X = adata.X.toarray().astype(np.float32)\n",
    "                    adata_tensor = torch.tensor(adata_X, dtype=torch.float32, device=device)\n",
    "                else:\n",
    "                    print('adata.X 데이터 형식 확인해주세요')\n",
    "                    \n",
    "                # Step 2: Convert adata2 to float32 or int32 before creating the PyTorch tensor\n",
    "                if isinstance(adata2, np.ndarray):\n",
    "                    # Convert to float32 if data is uint16 or other unsupported types\n",
    "                    adata2 = adata2.astype(np.float32) if adata2.dtype == np.uint16 else adata2.astype(np.float32)\n",
    "                    adata2_tensor = torch.tensor(adata2, dtype=torch.float32, device=device)\n",
    "                elif isinstance(adata2, csr_matrix):\n",
    "                    adata2 = adata2.toarray().astype(np.float32)\n",
    "                    adata2_tensor = torch.tensor(adata2, dtype=torch.float32, device=device)\n",
    "                else:\n",
    "                    print('adata2 데이터 형식 확인해주세요')\n",
    "            \n",
    "                # Step 3: Get the indices of the dropped values (where the mask is True)\n",
    "                dropped_indices = dropped_mask.nonzero(as_tuple=True)\n",
    "                \n",
    "                # Step 4: Extract the corresponding values for dropped spots\n",
    "                adata_values = adata_tensor[dropped_indices]\n",
    "                adata2_values = adata2_tensor[dropped_indices]\n",
    "                \n",
    "                # Step 5: Convert to CPU and calculate manh.\n",
    "                adata_values_cpu = adata_values.cpu().numpy()\n",
    "                adata2_values_cpu = adata2_values.cpu().numpy()\n",
    "\n",
    "                manhattan_distance = np.abs(adata_values_cpu - adata2_values_cpu).sum()\n",
    "                num_values = adata_values_cpu.size\n",
    "                manhattan_score = manhattan_distance / num_values\n",
    "                \n",
    "                # Store the result in the dictionary\n",
    "                man_sc[dataset + \"/\" + adata_name] = manhattan_score\n",
    "                \n",
    "                print(man_sc)\n",
    "\n",
    "            row_name = \"Trial : \" + trial\n",
    "            my_dir = os.path.join('/home/s2022310812/bench_results', model,dataset)\n",
    "            csv_path = os.path.join(my_dir, percent+\"-\"+sample +\"_result.csv\")\n",
    "            # Ensure the directory exists\n",
    "            os.makedirs(my_dir, exist_ok=True)\n",
    "            \n",
    "            # Extract column names and values\n",
    "            columns = [key.split(\"/\")[-1].split(\".\")[0] for key in man_sc.keys()]\n",
    "            values = list(man_sc.values())\n",
    "            \n",
    "            # Create a DataFrame for the new row\n",
    "            data = pd.DataFrame([values], columns=columns, index=[row_name])\n",
    "            \n",
    "            # Check if the file exists\n",
    "            if os.path.exists(csv_path):\n",
    "                # Read the existing CSV\n",
    "                existing_data = pd.read_csv(csv_path, index_col=0)\n",
    "            \n",
    "                # Append the new row\n",
    "                updated_data = pd.concat([existing_data, data])\n",
    "            else:\n",
    "                # If the file doesn't exist, use the new DataFrame\n",
    "                updated_data = data\n",
    "            \n",
    "            # Save back to CSV\n",
    "            updated_data.to_csv(csv_path) # [수정] 파라미터 최적화 등 결과 저장하지 않고 돌려보는 단계면 이 줄 주석처리\n"
   ]
  },
  {
   "cell_type": "code",
   "execution_count": null,
   "metadata": {},
   "outputs": [],
   "source": []
  },
  {
   "cell_type": "code",
   "execution_count": null,
   "metadata": {},
   "outputs": [],
   "source": []
  }
 ],
 "metadata": {
  "kernelspec": {
   "display_name": "SEDR-GP",
   "language": "python",
   "name": "sedr-gp"
  },
  "language_info": {
   "codemirror_mode": {
    "name": "ipython",
    "version": 3
   },
   "file_extension": ".py",
   "mimetype": "text/x-python",
   "name": "python",
   "nbconvert_exporter": "python",
   "pygments_lexer": "ipython3",
   "version": "3.10.16"
  }
 },
 "nbformat": 4,
 "nbformat_minor": 4
}
